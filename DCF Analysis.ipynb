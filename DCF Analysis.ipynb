{
 "cells": [
  {
   "cell_type": "code",
   "execution_count": 3,
   "metadata": {},
   "outputs": [
    {
     "name": "stdout",
     "output_type": "stream",
     "text": [
      "Intrinsic Value per Share: 553.37\n"
     ]
    }
   ],
   "source": [
    "def dcf_valuation(initial_fcf, growth_rate_1_5, growth_rate_6_10, discount_rate, terminal_growth_rate, shares_outstanding):\n",
    "    \"\"\"\n",
    "    Calculates the intrinsic value per share of a company using the Discounted Cash Flow (DCF) method.\n",
    "    \n",
    "    Parameters:\n",
    "    initial_fcf (float): Initial Free Cash Flow in million currency units\n",
    "    growth_rate_1_5 (float): Annual FCF growth rate for the first 5 years (as a decimal, e.g., 0.1 for 10%)\n",
    "    growth_rate_6_10 (float): Annual FCF growth rate for the next 5 years (as a decimal, e.g., 0.05 for 5%)\n",
    "    discount_rate (float): Discount rate or WACC (as a decimal, e.g., 0.09 for 9%)\n",
    "    terminal_growth_rate (float): Terminal growth rate after year 10 (as a decimal, e.g., 0.02 for 2%)\n",
    "    shares_outstanding (float): Number of shares outstanding in millions\n",
    "    \n",
    "    Returns:\n",
    "    float: Intrinsic value per share\n",
    "    \"\"\"\n",
    "    # Projected FCFs for the next 10 years\n",
    "    fcfs = []\n",
    "    for year in range(1, 11):\n",
    "        if year <= 5:\n",
    "            fcf = initial_fcf * (1 + growth_rate_1_5) ** year\n",
    "        else:\n",
    "            fcf = fcfs[4] * (1 + growth_rate_6_10) ** (year - 5)\n",
    "        fcfs.append(fcf)\n",
    "    \n",
    "    # Discount each FCF to present value\n",
    "    discounted_fcfs = [fcf / ((1 + discount_rate) ** year) for year, fcf in zip(range(1, 11), fcfs)]\n",
    "    \n",
    "    # Calculate the terminal value at year 10\n",
    "    terminal_value = fcfs[-1] * (1 + terminal_growth_rate) / (discount_rate - terminal_growth_rate)\n",
    "    discounted_terminal_value = terminal_value / ((1 + discount_rate) ** 10)\n",
    "    \n",
    "    # Calculate enterprise value and intrinsic value per share\n",
    "    enterprise_value = sum(discounted_fcfs) + discounted_terminal_value\n",
    "    intrinsic_value_per_share = enterprise_value / shares_outstanding\n",
    "    \n",
    "    return intrinsic_value_per_share\n",
    "\n",
    "# Example usage with ASML's parameters\n",
    "initial_fcf = 6000  # Initial FCF in million euros\n",
    "growth_rate_1_5 = 0.10  # percentage growth for years 1-5\n",
    "growth_rate_6_10 = 0.05  #  percentage growth for years 6-10\n",
    "discount_rate = 0.065  # discount rate/rate of return\n",
    "terminal_growth_rate = 0.02  # 2% terminal growth rate (after the 10 years)\n",
    "shares_outstanding = 390  # shares outstanding (in millions)\n",
    "\n",
    "intrinsic_value = dcf_valuation(initial_fcf, growth_rate_1_5, growth_rate_6_10, discount_rate, terminal_growth_rate, shares_outstanding)\n",
    "print(f\"Intrinsic Value per Share: {intrinsic_value:.2f}\")\n"
   ]
  }
 ],
 "metadata": {
  "kernelspec": {
   "display_name": "Python 3",
   "language": "python",
   "name": "python3"
  },
  "language_info": {
   "codemirror_mode": {
    "name": "ipython",
    "version": 3
   },
   "file_extension": ".py",
   "mimetype": "text/x-python",
   "name": "python",
   "nbconvert_exporter": "python",
   "pygments_lexer": "ipython3",
   "version": "3.11.9"
  }
 },
 "nbformat": 4,
 "nbformat_minor": 2
}
